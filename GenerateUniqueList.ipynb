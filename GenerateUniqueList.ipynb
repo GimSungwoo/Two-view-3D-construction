{
 "cells": [
  {
   "cell_type": "code",
   "execution_count": 2,
   "metadata": {},
   "outputs": [],
   "source": [
    "from os.path import join\n",
    "import random\n",
    "import numpy as np\n",
    "from scipy.io import loadmat"
   ]
  },
  {
   "cell_type": "code",
   "execution_count": 9,
   "metadata": {},
   "outputs": [],
   "source": [
    "def is_true(s):\n",
    "    return s == 'True'"
   ]
  },
  {
   "cell_type": "code",
   "execution_count": 14,
   "metadata": {},
   "outputs": [],
   "source": [
    "with open(join('downloads/data/shapenet/status/items_all.txt')) as f:\n",
    "    lines = f.read()\n",
    "item_list = lines.split('\\n')[:-1]\n",
    "\n",
    "with open(join('downloads/data/shapenet/status/is_train.txt')) as f:\n",
    "    is_trains = f.read()\n",
    "is_train_list = is_trains.split('\\n')[:-1]\n",
    "\n",
    "with open(join('downloads/data/shapenet/status/depth.txt')) as f:\n",
    "    depths = f.read()\n",
    "has_depth_list = [is_true(v) for v in depths.split('\\n')[:-1]]\n",
    "\n",
    "with open(join('downloads/data/shapenet/status/depth_minmax.txt')) as f:\n",
    "    depth_mms = f.read()\n",
    "has_depth_mm_list = [is_true(v) for v in depth_mms.split('\\n')[:-1]]\n",
    "\n",
    "with open(join('downloads/data/shapenet/status/normal.txt')) as f:\n",
    "    normals = f.read()\n",
    "has_normal_list = [is_true(v) for v in normals.split('\\n')[:-1]]\n",
    "\n",
    "with open(join('downloads/data/shapenet/status/rgb.txt')) as f:\n",
    "    rgbs = f.read()\n",
    "has_rgb_list = [is_true(v) for v in rgbs.split('\\n')[:-1]]\n",
    "\n",
    "with open(join('downloads/data/shapenet/status/silhou.txt')) as f:\n",
    "    silhous = f.read()\n",
    "has_silhou_list = [is_true(v) for v in silhous.split('\\n')[:-1]]\n",
    "\n",
    "with open(join('downloads/data/shapenet/status/spherical.txt')) as f:\n",
    "    sphericals = f.read()\n",
    "has_sph_list = [is_true(v) for v in sphericals.split('\\n')[:-1]]\n",
    "\n",
    "with open(join('downloads/data/shapenet/status/vox_canon.txt')) as f:\n",
    "    vox_cs = f.read()\n",
    "has_voxc_list = [is_true(v) for v in vox_cs.split('\\n')[:-1]]\n",
    "\n",
    "with open(join('downloads/data/shapenet/status/vox_rot.txt')) as f:\n",
    "    vox_rs = f.read()\n",
    "has_voxr_list = [is_true(v) for v in vox_rs.split('\\n')[:-1]]"
   ]
  },
  {
   "cell_type": "code",
   "execution_count": 15,
   "metadata": {},
   "outputs": [
    {
     "data": {
      "text/plain": [
       "[True, True, True, True, True, True, True, True, True]"
      ]
     },
     "execution_count": 15,
     "metadata": {},
     "output_type": "execute_result"
    }
   ],
   "source": [
    "has_depth_list[1:10]"
   ]
  },
  {
   "cell_type": "code",
   "execution_count": 16,
   "metadata": {},
   "outputs": [
    {
     "data": {
      "text/plain": [
       "['False',\n",
       " 'False',\n",
       " 'False',\n",
       " 'False',\n",
       " 'False',\n",
       " 'False',\n",
       " 'False',\n",
       " 'False',\n",
       " 'False']"
      ]
     },
     "execution_count": 16,
     "metadata": {},
     "output_type": "execute_result"
    }
   ],
   "source": [
    "is_train_list[1:10]"
   ]
  },
  {
   "cell_type": "code",
   "execution_count": 9,
   "metadata": {},
   "outputs": [],
   "source": [
    "test = [test[:test.rfind('_')] for item in item_list[1:10]]"
   ]
  },
  {
   "cell_type": "code",
   "execution_count": 11,
   "metadata": {},
   "outputs": [],
   "source": [
    "distinct_test = list(set(test))"
   ]
  },
  {
   "cell_type": "code",
   "execution_count": 12,
   "metadata": {},
   "outputs": [
    {
     "data": {
      "text/plain": [
       "['03928116/512b54ef050a7b4a11cc56dc4129a22d/03928116_512b54ef050a7b4a11cc56dc4129a22d']"
      ]
     },
     "execution_count": 12,
     "metadata": {},
     "output_type": "execute_result"
    }
   ],
   "source": [
    "distinct_test"
   ]
  },
  {
   "cell_type": "code",
   "execution_count": 7,
   "metadata": {},
   "outputs": [],
   "source": [
    "import os"
   ]
  },
  {
   "cell_type": "code",
   "execution_count": 21,
   "metadata": {},
   "outputs": [],
   "source": [
    "p1 = 'downloads/data/shapenet/status/items_unique.txt'\n",
    "p2 = 'downloads/data/shapenet/status/is_train_unique.txt'\n",
    "\n",
    "li = []\n",
    "prev = ''\n",
    "with open(p1, 'w') as item_f, open(p2, 'w') as is_train_f:\n",
    "    count = 1\n",
    "    for line, is_train, has_depth, has_depth_mm, has_normal, has_rgb, has_silhou, has_sph, has_voxc, has_voxr in \\\n",
    "    zip(item_list, is_train_list, has_depth_list, has_depth_mm_list, has_normal_list, has_rgb_list, has_silhou_list, has_sph_list, has_voxc_list, has_voxr_list):\n",
    "        temp = line[:line.rfind('_')]\n",
    "        if prev != temp:\n",
    "            #if prev != '':\n",
    "            #    item_f.write('\\t%d\\n' % count)\n",
    "            if has_depth and has_depth_mm and has_normal and has_rgb and has_silhou and has_sph and has_voxc and has_voxr:\n",
    "                item_f.write(temp + '\\n')\n",
    "                is_train_f.write(is_train + '\\n')\n",
    "            prev = temp\n",
    "            count = 1\n",
    "        else:\n",
    "            count = count + 1\n",
    "    # write last count\n",
    "#    item_f.write('\\t%d\\n' % count)"
   ]
  },
  {
   "cell_type": "code",
   "execution_count": null,
   "metadata": {},
   "outputs": [],
   "source": []
  }
 ],
 "metadata": {
  "kernelspec": {
   "display_name": "Python 3",
   "language": "python",
   "name": "python3"
  },
  "language_info": {
   "codemirror_mode": {
    "name": "ipython",
    "version": 3
   },
   "file_extension": ".py",
   "mimetype": "text/x-python",
   "name": "python",
   "nbconvert_exporter": "python",
   "pygments_lexer": "ipython3",
   "version": "3.4.9"
  }
 },
 "nbformat": 4,
 "nbformat_minor": 2
}
